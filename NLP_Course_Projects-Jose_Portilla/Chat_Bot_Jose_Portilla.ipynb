{
  "nbformat": 4,
  "nbformat_minor": 0,
  "metadata": {
    "colab": {
      "name": "Chat_Bot-Jose_Portilla.ipynb",
      "provenance": [],
      "collapsed_sections": []
    },
    "kernelspec": {
      "name": "python3",
      "display_name": "Python 3"
    },
    "accelerator": "GPU"
  },
  "cells": [
    {
      "cell_type": "markdown",
      "metadata": {
        "id": "7pj2iAryOBCx",
        "colab_type": "text"
      },
      "source": [
        "## **Load Data**"
      ]
    },
    {
      "cell_type": "code",
      "metadata": {
        "id": "xqlSGOdHN_Gg",
        "colab_type": "code",
        "colab": {}
      },
      "source": [
        "import pickle\n",
        "import numpy as np"
      ],
      "execution_count": 0,
      "outputs": []
    },
    {
      "cell_type": "code",
      "metadata": {
        "id": "CVHCDjE-LaBC",
        "colab_type": "code",
        "outputId": "0c9ec3b2-45ea-447d-a1b6-0de6c1bd5f38",
        "colab": {
          "base_uri": "https://localhost:8080/",
          "height": 34
        }
      },
      "source": [
        "cd \"/content/drive/My Drive/Colab Notebooks/Udemy\""
      ],
      "execution_count": 0,
      "outputs": [
        {
          "output_type": "stream",
          "text": [
            "/content/drive/My Drive/Colab Notebooks/Udemy\n"
          ],
          "name": "stdout"
        }
      ]
    },
    {
      "cell_type": "code",
      "metadata": {
        "id": "OCZZfGaPK2fj",
        "colab_type": "code",
        "colab": {}
      },
      "source": [
        "with open('train_qa.txt', 'rb') as f:\n",
        "  train_data = pickle.load(f)\n",
        "\n",
        "with open('test_qa.txt', 'rb') as f:\n",
        "  test_data = pickle.load(f)"
      ],
      "execution_count": 0,
      "outputs": []
    },
    {
      "cell_type": "code",
      "metadata": {
        "id": "2rsuQbZfK2h3",
        "colab_type": "code",
        "outputId": "c5483877-db36-4ed1-e0c0-b79eb8e36a4a",
        "colab": {
          "base_uri": "https://localhost:8080/",
          "height": 34
        }
      },
      "source": [
        "print(type(test_data), type(train_data))"
      ],
      "execution_count": 0,
      "outputs": [
        {
          "output_type": "stream",
          "text": [
            "<class 'list'> <class 'list'>\n"
          ],
          "name": "stdout"
        }
      ]
    },
    {
      "cell_type": "code",
      "metadata": {
        "id": "K81zpJnOK2k9",
        "colab_type": "code",
        "outputId": "ff516e67-f372-43e3-dd78-1b673a0e2474",
        "colab": {
          "base_uri": "https://localhost:8080/",
          "height": 34
        }
      },
      "source": [
        "print(len(train_data), len(test_data))"
      ],
      "execution_count": 0,
      "outputs": [
        {
          "output_type": "stream",
          "text": [
            "10000 1000\n"
          ],
          "name": "stdout"
        }
      ]
    },
    {
      "cell_type": "markdown",
      "metadata": {
        "id": "6kQu71oCONwE",
        "colab_type": "text"
      },
      "source": [
        "## **Expload the Data Format**"
      ]
    },
    {
      "cell_type": "code",
      "metadata": {
        "id": "fj0thXiZK2mx",
        "colab_type": "code",
        "outputId": "381edb68-192e-4ae2-a7a6-f71b12ed33b8",
        "colab": {
          "base_uri": "https://localhost:8080/",
          "height": 255
        }
      },
      "source": [
        "train_data[0]"
      ],
      "execution_count": 0,
      "outputs": [
        {
          "output_type": "execute_result",
          "data": {
            "text/plain": [
              "(['Mary',\n",
              "  'moved',\n",
              "  'to',\n",
              "  'the',\n",
              "  'bathroom',\n",
              "  '.',\n",
              "  'Sandra',\n",
              "  'journeyed',\n",
              "  'to',\n",
              "  'the',\n",
              "  'bedroom',\n",
              "  '.'],\n",
              " ['Is', 'Sandra', 'in', 'the', 'hallway', '?'],\n",
              " 'no')"
            ]
          },
          "metadata": {
            "tags": []
          },
          "execution_count": 6
        }
      ]
    },
    {
      "cell_type": "code",
      "metadata": {
        "id": "z3ZhcKXUK2p2",
        "colab_type": "code",
        "outputId": "c17ac437-8c70-4de6-d55d-b8065bed6f9d",
        "colab": {
          "base_uri": "https://localhost:8080/",
          "height": 68
        }
      },
      "source": [
        "print(' '.join(train_data[0][0]))\n",
        "print(' '.join(train_data[0][1]))\n",
        "print(train_data[0][2])"
      ],
      "execution_count": 0,
      "outputs": [
        {
          "output_type": "stream",
          "text": [
            "Mary moved to the bathroom . Sandra journeyed to the bedroom .\n",
            "Is Sandra in the hallway ?\n",
            "no\n"
          ],
          "name": "stdout"
        }
      ]
    },
    {
      "cell_type": "markdown",
      "metadata": {
        "id": "VNzLB56qOW78",
        "colab_type": "text"
      },
      "source": [
        "## **Create Vocabulary**"
      ]
    },
    {
      "cell_type": "code",
      "metadata": {
        "id": "xkZtJ9K7K2rp",
        "colab_type": "code",
        "outputId": "753dab36-27cb-4163-df26-6005408f75f6",
        "colab": {
          "base_uri": "https://localhost:8080/",
          "height": 34
        }
      },
      "source": [
        "all_data = test_data + train_data\n",
        "len(all_data)"
      ],
      "execution_count": 0,
      "outputs": [
        {
          "output_type": "execute_result",
          "data": {
            "text/plain": [
              "11000"
            ]
          },
          "metadata": {
            "tags": []
          },
          "execution_count": 8
        }
      ]
    },
    {
      "cell_type": "code",
      "metadata": {
        "id": "j0pQHrrbK2u1",
        "colab_type": "code",
        "outputId": "f2746e34-7cc7-4c92-8072-fae839b0008f",
        "colab": {
          "base_uri": "https://localhost:8080/",
          "height": 646
        }
      },
      "source": [
        "vocab = set()\n",
        "\n",
        "for story, question, answer in all_data:\n",
        "    vocab = vocab.union(set(story))\n",
        "    vocab = vocab.union(set(question))\n",
        "\n",
        "vocab.add('yes')    \n",
        "vocab.add('no')\n",
        "vocab"
      ],
      "execution_count": 0,
      "outputs": [
        {
          "output_type": "execute_result",
          "data": {
            "text/plain": [
              "{'.',\n",
              " '?',\n",
              " 'Daniel',\n",
              " 'Is',\n",
              " 'John',\n",
              " 'Mary',\n",
              " 'Sandra',\n",
              " 'apple',\n",
              " 'back',\n",
              " 'bathroom',\n",
              " 'bedroom',\n",
              " 'discarded',\n",
              " 'down',\n",
              " 'dropped',\n",
              " 'football',\n",
              " 'garden',\n",
              " 'got',\n",
              " 'grabbed',\n",
              " 'hallway',\n",
              " 'in',\n",
              " 'journeyed',\n",
              " 'kitchen',\n",
              " 'left',\n",
              " 'milk',\n",
              " 'moved',\n",
              " 'no',\n",
              " 'office',\n",
              " 'picked',\n",
              " 'put',\n",
              " 'the',\n",
              " 'there',\n",
              " 'to',\n",
              " 'took',\n",
              " 'travelled',\n",
              " 'up',\n",
              " 'went',\n",
              " 'yes'}"
            ]
          },
          "metadata": {
            "tags": []
          },
          "execution_count": 9
        }
      ]
    },
    {
      "cell_type": "code",
      "metadata": {
        "id": "rAnnRhoRK2xJ",
        "colab_type": "code",
        "outputId": "e87e31fc-2e79-4e5e-fd45-35114c51477e",
        "colab": {
          "base_uri": "https://localhost:8080/",
          "height": 34
        }
      },
      "source": [
        "vocab_len = len(vocab) + 1\n",
        "vocab_len"
      ],
      "execution_count": 0,
      "outputs": [
        {
          "output_type": "execute_result",
          "data": {
            "text/plain": [
              "38"
            ]
          },
          "metadata": {
            "tags": []
          },
          "execution_count": 10
        }
      ]
    },
    {
      "cell_type": "code",
      "metadata": {
        "id": "NtKxdFC1K20F",
        "colab_type": "code",
        "outputId": "b2226700-14f8-43ad-fc7b-5ddd38b49081",
        "colab": {
          "base_uri": "https://localhost:8080/",
          "height": 34
        }
      },
      "source": [
        "all_story_len = [len(data[0]) for data in all_data]\n",
        "max_story_len = max(all_story_len)\n",
        "max_question_len = max([len(data[1]) for data in all_data])\n",
        "print(max_story_len, max_question_len)"
      ],
      "execution_count": 0,
      "outputs": [
        {
          "output_type": "stream",
          "text": [
            "156 6\n"
          ],
          "name": "stdout"
        }
      ]
    },
    {
      "cell_type": "markdown",
      "metadata": {
        "id": "NN9JZRjIPd-d",
        "colab_type": "text"
      },
      "source": [
        "## **Vectorize data**"
      ]
    },
    {
      "cell_type": "code",
      "metadata": {
        "id": "6yWRF1FcOcrD",
        "colab_type": "code",
        "outputId": "f542ca03-b61a-4319-97b0-eed192399b9f",
        "colab": {
          "base_uri": "https://localhost:8080/",
          "height": 709
        }
      },
      "source": [
        "from keras.preprocessing.sequence import pad_sequences\n",
        "from keras.preprocessing.text import Tokenizer\n",
        "\n",
        "tokenizer = Tokenizer(filters=[])\n",
        "tokenizer.fit_on_texts(vocab)\n",
        "\n",
        "# Maps each word to an index\n",
        "tokenizer.word_index"
      ],
      "execution_count": 0,
      "outputs": [
        {
          "output_type": "stream",
          "text": [
            "Using TensorFlow backend.\n"
          ],
          "name": "stderr"
        },
        {
          "output_type": "display_data",
          "data": {
            "text/html": [
              "<p style=\"color: red;\">\n",
              "The default version of TensorFlow in Colab will switch to TensorFlow 2.x on the 27th of March, 2020.<br>\n",
              "We recommend you <a href=\"https://www.tensorflow.org/guide/migrate\" target=\"_blank\">upgrade</a> now\n",
              "or ensure your notebook will continue to use TensorFlow 1.x via the <code>%tensorflow_version 1.x</code> magic:\n",
              "<a href=\"https://colab.research.google.com/notebooks/tensorflow_version.ipynb\" target=\"_blank\">more info</a>.</p>\n"
            ],
            "text/plain": [
              "<IPython.core.display.HTML object>"
            ]
          },
          "metadata": {
            "tags": []
          }
        },
        {
          "output_type": "execute_result",
          "data": {
            "text/plain": [
              "{'.': 4,\n",
              " '?': 27,\n",
              " 'apple': 19,\n",
              " 'back': 24,\n",
              " 'bathroom': 23,\n",
              " 'bedroom': 15,\n",
              " 'daniel': 36,\n",
              " 'discarded': 3,\n",
              " 'down': 6,\n",
              " 'dropped': 21,\n",
              " 'football': 28,\n",
              " 'garden': 18,\n",
              " 'got': 1,\n",
              " 'grabbed': 9,\n",
              " 'hallway': 5,\n",
              " 'in': 2,\n",
              " 'is': 20,\n",
              " 'john': 33,\n",
              " 'journeyed': 25,\n",
              " 'kitchen': 17,\n",
              " 'left': 12,\n",
              " 'mary': 7,\n",
              " 'milk': 32,\n",
              " 'moved': 29,\n",
              " 'no': 14,\n",
              " 'office': 11,\n",
              " 'picked': 10,\n",
              " 'put': 13,\n",
              " 'sandra': 37,\n",
              " 'the': 16,\n",
              " 'there': 8,\n",
              " 'to': 30,\n",
              " 'took': 31,\n",
              " 'travelled': 22,\n",
              " 'up': 34,\n",
              " 'went': 35,\n",
              " 'yes': 26}"
            ]
          },
          "metadata": {
            "tags": []
          },
          "execution_count": 12
        }
      ]
    },
    {
      "cell_type": "code",
      "metadata": {
        "id": "xcSSDY4QOct_",
        "colab_type": "code",
        "colab": {}
      },
      "source": [
        "train_story_text = []\n",
        "train_question_text = []\n",
        "train_answers = []\n",
        "\n",
        "for story, question, answers in train_data:\n",
        "  train_story_text.append(story)\n",
        "  train_question_text.append(question)\n",
        "  train_answers.append(answers)"
      ],
      "execution_count": 0,
      "outputs": []
    },
    {
      "cell_type": "code",
      "metadata": {
        "id": "RV2Blhp9Oczr",
        "colab_type": "code",
        "colab": {}
      },
      "source": [
        "def vectorize_stories(data, word_index=tokenizer.word_index, max_story_len=max_story_len, max_question_len=max_question_len):\n",
        "\n",
        "  # Stories = X\n",
        "  X = []\n",
        "  # QUESTIONS = Xq\n",
        "  Xq = []\n",
        "  # ANSWERS - (yes/no)\n",
        "  Y = []\n",
        "\n",
        "  for story, question, answer in data:\n",
        "    # for each story\n",
        "    # [[14, 13, 24, ...], [...], ..]\n",
        "    x = [word_index[word.lower()] for word in story]\n",
        "    xq = [word_index[word.lower()] for word in question]\n",
        "\n",
        "    y = np.zeros(len(word_index) + 1)\n",
        "    y[word_index[answer]] = 1\n",
        "\n",
        "    X.append(x)\n",
        "    Xq.append(xq)\n",
        "    Y.append(y)    \n",
        "\n",
        "  return (pad_sequences(X, maxlen=max_story_len), pad_sequences(Xq, maxlen=max_question_len), np.array(Y))"
      ],
      "execution_count": 0,
      "outputs": []
    },
    {
      "cell_type": "code",
      "metadata": {
        "id": "hjZwmaXLWNX0",
        "colab_type": "code",
        "outputId": "cf90ac4c-0854-42f7-ee0a-dd1969bd29b7",
        "colab": {
          "base_uri": "https://localhost:8080/",
          "height": 34
        }
      },
      "source": [
        "len(train_data)"
      ],
      "execution_count": 0,
      "outputs": [
        {
          "output_type": "execute_result",
          "data": {
            "text/plain": [
              "10000"
            ]
          },
          "metadata": {
            "tags": []
          },
          "execution_count": 15
        }
      ]
    },
    {
      "cell_type": "code",
      "metadata": {
        "id": "3CZMoK2dOc35",
        "colab_type": "code",
        "colab": {}
      },
      "source": [
        "inputs_train, queries_train, answers_train = vectorize_stories(train_data)\n",
        "inputs_test, queries_test, answers_test = vectorize_stories(test_data)"
      ],
      "execution_count": 0,
      "outputs": []
    },
    {
      "cell_type": "code",
      "metadata": {
        "id": "SV46kGt1Oc7R",
        "colab_type": "code",
        "outputId": "a13a67c7-606a-4fbe-af9c-1b03b168e156",
        "colab": {
          "base_uri": "https://localhost:8080/",
          "height": 136
        }
      },
      "source": [
        "inputs_test"
      ],
      "execution_count": 0,
      "outputs": [
        {
          "output_type": "execute_result",
          "data": {
            "text/plain": [
              "array([[ 0,  0,  0, ..., 16, 15,  4],\n",
              "       [ 0,  0,  0, ..., 16, 18,  4],\n",
              "       [ 0,  0,  0, ..., 16, 18,  4],\n",
              "       ...,\n",
              "       [ 0,  0,  0, ..., 16, 19,  4],\n",
              "       [ 0,  0,  0, ..., 16, 18,  4],\n",
              "       [ 0,  0,  0, ..., 19,  8,  4]], dtype=int32)"
            ]
          },
          "metadata": {
            "tags": []
          },
          "execution_count": 17
        }
      ]
    },
    {
      "cell_type": "code",
      "metadata": {
        "id": "kPDVkyVxOc-_",
        "colab_type": "code",
        "outputId": "54faeda0-e7da-439f-b994-1d87985bd64a",
        "colab": {
          "base_uri": "https://localhost:8080/",
          "height": 136
        }
      },
      "source": [
        "answers_test"
      ],
      "execution_count": 0,
      "outputs": [
        {
          "output_type": "execute_result",
          "data": {
            "text/plain": [
              "array([[0., 0., 0., ..., 0., 0., 0.],\n",
              "       [0., 0., 0., ..., 0., 0., 0.],\n",
              "       [0., 0., 0., ..., 0., 0., 0.],\n",
              "       ...,\n",
              "       [0., 0., 0., ..., 0., 0., 0.],\n",
              "       [0., 0., 0., ..., 0., 0., 0.],\n",
              "       [0., 0., 0., ..., 0., 0., 0.]])"
            ]
          },
          "metadata": {
            "tags": []
          },
          "execution_count": 18
        }
      ]
    },
    {
      "cell_type": "code",
      "metadata": {
        "id": "yviOFDaYOdB3",
        "colab_type": "code",
        "outputId": "32026134-52d0-450b-ffef-902348a86cdf",
        "colab": {
          "base_uri": "https://localhost:8080/",
          "height": 34
        }
      },
      "source": [
        "tokenizer.word_index['yes']"
      ],
      "execution_count": 0,
      "outputs": [
        {
          "output_type": "execute_result",
          "data": {
            "text/plain": [
              "26"
            ]
          },
          "metadata": {
            "tags": []
          },
          "execution_count": 19
        }
      ]
    },
    {
      "cell_type": "code",
      "metadata": {
        "id": "X4_f4EjlOdEu",
        "colab_type": "code",
        "outputId": "5d2610ea-3ff5-4d7d-d0e2-b917c4cbde9e",
        "colab": {
          "base_uri": "https://localhost:8080/",
          "height": 34
        }
      },
      "source": [
        "tokenizer.word_index['no']"
      ],
      "execution_count": 0,
      "outputs": [
        {
          "output_type": "execute_result",
          "data": {
            "text/plain": [
              "14"
            ]
          },
          "metadata": {
            "tags": []
          },
          "execution_count": 20
        }
      ]
    },
    {
      "cell_type": "code",
      "metadata": {
        "id": "LpUM5YdLOdHn",
        "colab_type": "code",
        "outputId": "110c3abf-43ed-4800-c5f5-6400bc897478",
        "colab": {
          "base_uri": "https://localhost:8080/",
          "height": 85
        }
      },
      "source": [
        "sum(answers_test)"
      ],
      "execution_count": 0,
      "outputs": [
        {
          "output_type": "execute_result",
          "data": {
            "text/plain": [
              "array([  0.,   0.,   0.,   0.,   0.,   0.,   0.,   0.,   0.,   0.,   0.,\n",
              "         0.,   0.,   0., 503.,   0.,   0.,   0.,   0.,   0.,   0.,   0.,\n",
              "         0.,   0.,   0.,   0., 497.,   0.,   0.,   0.,   0.,   0.,   0.,\n",
              "         0.,   0.,   0.,   0.,   0.])"
            ]
          },
          "metadata": {
            "tags": []
          },
          "execution_count": 21
        }
      ]
    },
    {
      "cell_type": "markdown",
      "metadata": {
        "id": "pRGJmQPIkb3Y",
        "colab_type": "text"
      },
      "source": [
        "## **Build Neural Network**\n",
        "\n",
        "> Input Encoder M \n",
        "\n",
        "> Input Encoder C\n",
        "\n",
        "> Question Encoder\n",
        "\n",
        "\n"
      ]
    },
    {
      "cell_type": "code",
      "metadata": {
        "id": "HwmTmtG9OdLB",
        "colab_type": "code",
        "colab": {}
      },
      "source": [
        "from keras.models import Sequential, Model\n",
        "from keras.layers.embeddings import Embedding\n",
        "from keras.layers import Input, Activation, Dense, add, dot, Dropout, Permute, concatenate, LSTM"
      ],
      "execution_count": 0,
      "outputs": []
    },
    {
      "cell_type": "code",
      "metadata": {
        "id": "9twaGA44lFtG",
        "colab_type": "code",
        "outputId": "0e36357a-9571-4b01-93da-dcd31830f37c",
        "colab": {
          "base_uri": "https://localhost:8080/",
          "height": 105
        }
      },
      "source": [
        "input_sequence = Input((max_story_len, ))\n",
        "question = Input((max_question_len, ))\n",
        "\n",
        "vocab_size = len(vocab) + 1"
      ],
      "execution_count": 0,
      "outputs": [
        {
          "output_type": "stream",
          "text": [
            "WARNING:tensorflow:From /usr/local/lib/python3.6/dist-packages/keras/backend/tensorflow_backend.py:66: The name tf.get_default_graph is deprecated. Please use tf.compat.v1.get_default_graph instead.\n",
            "\n",
            "WARNING:tensorflow:From /usr/local/lib/python3.6/dist-packages/keras/backend/tensorflow_backend.py:541: The name tf.placeholder is deprecated. Please use tf.compat.v1.placeholder instead.\n",
            "\n"
          ],
          "name": "stdout"
        }
      ]
    },
    {
      "cell_type": "code",
      "metadata": {
        "id": "V5PDQRoNlFvp",
        "colab_type": "code",
        "outputId": "90b76255-aea0-48ec-b1ea-45b0ff50bd6d",
        "colab": {
          "base_uri": "https://localhost:8080/",
          "height": 156
        }
      },
      "source": [
        "# Input Encoder M\n",
        "input_encoder_m = Sequential()\n",
        "input_encoder_m.add(Embedding(input_dim=vocab_size, output_dim=64))\n",
        "input_encoder_m.add(Dropout(0.3))\n",
        "\n",
        "# (samples, story_max_len, embedding_dim)"
      ],
      "execution_count": 0,
      "outputs": [
        {
          "output_type": "stream",
          "text": [
            "WARNING:tensorflow:From /usr/local/lib/python3.6/dist-packages/keras/backend/tensorflow_backend.py:4432: The name tf.random_uniform is deprecated. Please use tf.random.uniform instead.\n",
            "\n",
            "WARNING:tensorflow:From /usr/local/lib/python3.6/dist-packages/keras/backend/tensorflow_backend.py:148: The name tf.placeholder_with_default is deprecated. Please use tf.compat.v1.placeholder_with_default instead.\n",
            "\n",
            "WARNING:tensorflow:From /usr/local/lib/python3.6/dist-packages/keras/backend/tensorflow_backend.py:3733: calling dropout (from tensorflow.python.ops.nn_ops) with keep_prob is deprecated and will be removed in a future version.\n",
            "Instructions for updating:\n",
            "Please use `rate` instead of `keep_prob`. Rate should be set to `rate = 1 - keep_prob`.\n"
          ],
          "name": "stdout"
        }
      ]
    },
    {
      "cell_type": "code",
      "metadata": {
        "id": "AOnZ-vDclFyX",
        "colab_type": "code",
        "colab": {}
      },
      "source": [
        "# Input Encoder C\n",
        "input_encoder_c = Sequential()\n",
        "input_encoder_c.add(Embedding(input_dim=vocab_size, output_dim=max_question_len))\n",
        "input_encoder_c.add(Dropout(0.3))\n",
        "\n",
        "# (samples, story_max_len, question_max_len)"
      ],
      "execution_count": 0,
      "outputs": []
    },
    {
      "cell_type": "code",
      "metadata": {
        "id": "zwUo9vnWlF1e",
        "colab_type": "code",
        "colab": {}
      },
      "source": [
        "# Question Encoder \n",
        "question_encoder = Sequential()\n",
        "question_encoder.add(Embedding(input_dim=vocab_size, output_dim=64, input_length=max_question_len))\n",
        "question_encoder.add(Dropout(0.3))"
      ],
      "execution_count": 0,
      "outputs": []
    },
    {
      "cell_type": "code",
      "metadata": {
        "id": "iDbiJyXCOdRn",
        "colab_type": "code",
        "colab": {}
      },
      "source": [
        "# Encoded <==== Encoder(Input)\n",
        "input_encoded_m = input_encoder_m(input_sequence)\n",
        "input_encoded_c = input_encoder_c(input_sequence)\n",
        "question_encoded = question_encoder(question)"
      ],
      "execution_count": 0,
      "outputs": []
    },
    {
      "cell_type": "code",
      "metadata": {
        "colab_type": "code",
        "outputId": "b4f64c2e-ff7a-4da2-896a-8a0f82c5afaf",
        "id": "el3z5WdopiqE",
        "colab": {
          "base_uri": "https://localhost:8080/",
          "height": 34
        }
      },
      "source": [
        "match = dot([input_encoded_m, question_encoded],axes=(2,2))\n",
        "match = Activation('softmax')(match)\n",
        "response = add([match, input_encoded_c])\n",
        "response = Permute((2, 1))(response)\n",
        "\n",
        "answer  = concatenate([response, question_encoded])\n",
        "answer"
      ],
      "execution_count": 0,
      "outputs": [
        {
          "output_type": "execute_result",
          "data": {
            "text/plain": [
              "<tf.Tensor 'concatenate_1/concat:0' shape=(?, 6, 220) dtype=float32>"
            ]
          },
          "metadata": {
            "tags": []
          },
          "execution_count": 28
        }
      ]
    },
    {
      "cell_type": "code",
      "metadata": {
        "id": "2z1H4NZkpjoK",
        "colab_type": "code",
        "colab": {}
      },
      "source": [
        "answer = LSTM(32)(answer)\n",
        "answer = Dropout(0.5)(answer)\n",
        "answer = Dense(vocab_size)(answer)"
      ],
      "execution_count": 0,
      "outputs": []
    },
    {
      "cell_type": "code",
      "metadata": {
        "id": "-VivCZV9pkBD",
        "colab_type": "code",
        "outputId": "813b3980-8042-4a8a-bed4-db4781f82999",
        "colab": {
          "base_uri": "https://localhost:8080/",
          "height": 105
        }
      },
      "source": [
        "answer = Activation('softmax')(answer)\n",
        "model = Model([input_sequence, question], answer)\n",
        "model.compile(optimizer='rmsprop', loss='categorical_crossentropy', metrics=['accuracy'])"
      ],
      "execution_count": 0,
      "outputs": [
        {
          "output_type": "stream",
          "text": [
            "WARNING:tensorflow:From /usr/local/lib/python3.6/dist-packages/keras/optimizers.py:793: The name tf.train.Optimizer is deprecated. Please use tf.compat.v1.train.Optimizer instead.\n",
            "\n",
            "WARNING:tensorflow:From /usr/local/lib/python3.6/dist-packages/keras/backend/tensorflow_backend.py:3576: The name tf.log is deprecated. Please use tf.math.log instead.\n",
            "\n"
          ],
          "name": "stdout"
        }
      ]
    },
    {
      "cell_type": "code",
      "metadata": {
        "id": "ICwuwVbdOdU6",
        "colab_type": "code",
        "outputId": "1205b882-ab6c-40fe-f96a-b65c62389d82",
        "colab": {
          "base_uri": "https://localhost:8080/",
          "height": 680
        }
      },
      "source": [
        "model.summary()"
      ],
      "execution_count": 0,
      "outputs": [
        {
          "output_type": "stream",
          "text": [
            "Model: \"model_1\"\n",
            "__________________________________________________________________________________________________\n",
            "Layer (type)                    Output Shape         Param #     Connected to                     \n",
            "==================================================================================================\n",
            "input_1 (InputLayer)            (None, 156)          0                                            \n",
            "__________________________________________________________________________________________________\n",
            "input_2 (InputLayer)            (None, 6)            0                                            \n",
            "__________________________________________________________________________________________________\n",
            "sequential_1 (Sequential)       multiple             2432        input_1[0][0]                    \n",
            "__________________________________________________________________________________________________\n",
            "sequential_3 (Sequential)       (None, 6, 64)        2432        input_2[0][0]                    \n",
            "__________________________________________________________________________________________________\n",
            "dot_1 (Dot)                     (None, 156, 6)       0           sequential_1[1][0]               \n",
            "                                                                 sequential_3[1][0]               \n",
            "__________________________________________________________________________________________________\n",
            "activation_1 (Activation)       (None, 156, 6)       0           dot_1[0][0]                      \n",
            "__________________________________________________________________________________________________\n",
            "sequential_2 (Sequential)       multiple             228         input_1[0][0]                    \n",
            "__________________________________________________________________________________________________\n",
            "add_1 (Add)                     (None, 156, 6)       0           activation_1[0][0]               \n",
            "                                                                 sequential_2[1][0]               \n",
            "__________________________________________________________________________________________________\n",
            "permute_1 (Permute)             (None, 6, 156)       0           add_1[0][0]                      \n",
            "__________________________________________________________________________________________________\n",
            "concatenate_1 (Concatenate)     (None, 6, 220)       0           permute_1[0][0]                  \n",
            "                                                                 sequential_3[1][0]               \n",
            "__________________________________________________________________________________________________\n",
            "lstm_1 (LSTM)                   (None, 32)           32384       concatenate_1[0][0]              \n",
            "__________________________________________________________________________________________________\n",
            "dropout_4 (Dropout)             (None, 32)           0           lstm_1[0][0]                     \n",
            "__________________________________________________________________________________________________\n",
            "dense_1 (Dense)                 (None, 38)           1254        dropout_4[0][0]                  \n",
            "__________________________________________________________________________________________________\n",
            "activation_2 (Activation)       (None, 38)           0           dense_1[0][0]                    \n",
            "==================================================================================================\n",
            "Total params: 38,730\n",
            "Trainable params: 38,730\n",
            "Non-trainable params: 0\n",
            "__________________________________________________________________________________________________\n"
          ],
          "name": "stdout"
        }
      ]
    },
    {
      "cell_type": "markdown",
      "metadata": {
        "id": "K8d2y0tXtmSq",
        "colab_type": "text"
      },
      "source": [
        "## **Execute Network**\n",
        "\n",
        ">Fit/Train Network\n",
        "\n",
        ">Plot out training history\n",
        "\n",
        ">Evaluate on testset\n",
        "\n",
        ">Create your own stories and questions"
      ]
    },
    {
      "cell_type": "code",
      "metadata": {
        "id": "AB_jVWOcOdai",
        "colab_type": "code",
        "outputId": "3954bbdf-0281-41e0-a374-db818b734918",
        "colab": {
          "base_uri": "https://localhost:8080/",
          "height": 1000
        }
      },
      "source": [
        "history = model.fit([inputs_train, queries_train], answers_train,\n",
        "                    batch_size=32,\n",
        "                    epochs=50,\n",
        "                    validation_data=([inputs_test, queries_test], answers_test))"
      ],
      "execution_count": 0,
      "outputs": [
        {
          "output_type": "stream",
          "text": [
            "Train on 10000 samples, validate on 1000 samples\n",
            "Epoch 1/50\n",
            "10000/10000 [==============================] - 4s 445us/step - loss: 1.5343 - acc: 0.4803 - val_loss: 0.6687 - val_acc: 0.5870\n",
            "Epoch 2/50\n",
            "10000/10000 [==============================] - 5s 450us/step - loss: 0.6510 - acc: 0.6238 - val_loss: 0.5531 - val_acc: 0.7450\n",
            "Epoch 3/50\n",
            "10000/10000 [==============================] - 5s 455us/step - loss: 0.5385 - acc: 0.7461 - val_loss: 0.4333 - val_acc: 0.8100\n",
            "Epoch 4/50\n",
            "10000/10000 [==============================] - 4s 449us/step - loss: 0.4554 - acc: 0.8114 - val_loss: 0.3927 - val_acc: 0.8330\n",
            "Epoch 5/50\n",
            "10000/10000 [==============================] - 4s 447us/step - loss: 0.4149 - acc: 0.8325 - val_loss: 0.3790 - val_acc: 0.8430\n",
            "Epoch 6/50\n",
            "10000/10000 [==============================] - 5s 451us/step - loss: 0.3921 - acc: 0.8417 - val_loss: 0.3728 - val_acc: 0.8440\n",
            "Epoch 7/50\n",
            "10000/10000 [==============================] - 5s 453us/step - loss: 0.3681 - acc: 0.8453 - val_loss: 0.3626 - val_acc: 0.8510\n",
            "Epoch 8/50\n",
            "10000/10000 [==============================] - 4s 448us/step - loss: 0.3667 - acc: 0.8489 - val_loss: 0.3602 - val_acc: 0.8480\n",
            "Epoch 9/50\n",
            "10000/10000 [==============================] - 4s 449us/step - loss: 0.3587 - acc: 0.8527 - val_loss: 0.3448 - val_acc: 0.8480\n",
            "Epoch 10/50\n",
            "10000/10000 [==============================] - 5s 463us/step - loss: 0.3374 - acc: 0.8572 - val_loss: 0.3487 - val_acc: 0.8500\n",
            "Epoch 11/50\n",
            "10000/10000 [==============================] - 5s 474us/step - loss: 0.3357 - acc: 0.8611 - val_loss: 0.3494 - val_acc: 0.8400\n",
            "Epoch 12/50\n",
            "10000/10000 [==============================] - 5s 468us/step - loss: 0.3181 - acc: 0.8667 - val_loss: 0.3254 - val_acc: 0.8570\n",
            "Epoch 13/50\n",
            "10000/10000 [==============================] - 4s 450us/step - loss: 0.3074 - acc: 0.8733 - val_loss: 0.2981 - val_acc: 0.8700\n",
            "Epoch 14/50\n",
            "10000/10000 [==============================] - 5s 451us/step - loss: 0.2885 - acc: 0.8787 - val_loss: 0.3253 - val_acc: 0.8620\n",
            "Epoch 15/50\n",
            "10000/10000 [==============================] - 4s 444us/step - loss: 0.2654 - acc: 0.8938 - val_loss: 0.2677 - val_acc: 0.8900\n",
            "Epoch 16/50\n",
            "10000/10000 [==============================] - 4s 448us/step - loss: 0.2396 - acc: 0.9073 - val_loss: 0.2368 - val_acc: 0.9060\n",
            "Epoch 17/50\n",
            "10000/10000 [==============================] - 5s 450us/step - loss: 0.2086 - acc: 0.9200 - val_loss: 0.2305 - val_acc: 0.9030\n",
            "Epoch 18/50\n",
            "10000/10000 [==============================] - 4s 446us/step - loss: 0.1966 - acc: 0.9225 - val_loss: 0.2010 - val_acc: 0.9220\n",
            "Epoch 19/50\n",
            "10000/10000 [==============================] - 5s 453us/step - loss: 0.1868 - acc: 0.9291 - val_loss: 0.2164 - val_acc: 0.9130\n",
            "Epoch 20/50\n",
            "10000/10000 [==============================] - 4s 445us/step - loss: 0.1775 - acc: 0.9327 - val_loss: 0.1935 - val_acc: 0.9220\n",
            "Epoch 21/50\n",
            "10000/10000 [==============================] - 5s 459us/step - loss: 0.1735 - acc: 0.9326 - val_loss: 0.1823 - val_acc: 0.9220\n",
            "Epoch 22/50\n",
            "10000/10000 [==============================] - 5s 460us/step - loss: 0.1614 - acc: 0.9409 - val_loss: 0.1669 - val_acc: 0.9350\n",
            "Epoch 23/50\n",
            "10000/10000 [==============================] - 4s 443us/step - loss: 0.1564 - acc: 0.9398 - val_loss: 0.1587 - val_acc: 0.9340\n",
            "Epoch 24/50\n",
            "10000/10000 [==============================] - 5s 473us/step - loss: 0.1458 - acc: 0.9435 - val_loss: 0.1584 - val_acc: 0.9400\n",
            "Epoch 25/50\n",
            "10000/10000 [==============================] - 5s 483us/step - loss: 0.1448 - acc: 0.9455 - val_loss: 0.1520 - val_acc: 0.9450\n",
            "Epoch 26/50\n",
            "10000/10000 [==============================] - 5s 467us/step - loss: 0.1359 - acc: 0.9489 - val_loss: 0.1598 - val_acc: 0.9440\n",
            "Epoch 27/50\n",
            "10000/10000 [==============================] - 5s 462us/step - loss: 0.1324 - acc: 0.9498 - val_loss: 0.1406 - val_acc: 0.9400\n",
            "Epoch 28/50\n",
            "10000/10000 [==============================] - 5s 467us/step - loss: 0.1235 - acc: 0.9533 - val_loss: 0.1510 - val_acc: 0.9440\n",
            "Epoch 29/50\n",
            "10000/10000 [==============================] - 5s 461us/step - loss: 0.1231 - acc: 0.9530 - val_loss: 0.1350 - val_acc: 0.9470\n",
            "Epoch 30/50\n",
            "10000/10000 [==============================] - 5s 463us/step - loss: 0.1182 - acc: 0.9560 - val_loss: 0.1568 - val_acc: 0.9410\n",
            "Epoch 31/50\n",
            "10000/10000 [==============================] - 5s 471us/step - loss: 0.1174 - acc: 0.9568 - val_loss: 0.1533 - val_acc: 0.9490\n",
            "Epoch 32/50\n",
            "10000/10000 [==============================] - 5s 470us/step - loss: 0.1118 - acc: 0.9579 - val_loss: 0.1359 - val_acc: 0.9440\n",
            "Epoch 33/50\n",
            "10000/10000 [==============================] - 5s 465us/step - loss: 0.1070 - acc: 0.9613 - val_loss: 0.1317 - val_acc: 0.9510\n",
            "Epoch 34/50\n",
            "10000/10000 [==============================] - 5s 464us/step - loss: 0.1046 - acc: 0.9604 - val_loss: 0.1339 - val_acc: 0.9500\n",
            "Epoch 35/50\n",
            "10000/10000 [==============================] - 5s 461us/step - loss: 0.1034 - acc: 0.9625 - val_loss: 0.1316 - val_acc: 0.9530\n",
            "Epoch 36/50\n",
            "10000/10000 [==============================] - 5s 462us/step - loss: 0.1023 - acc: 0.9631 - val_loss: 0.1600 - val_acc: 0.9290\n",
            "Epoch 37/50\n",
            "10000/10000 [==============================] - 5s 460us/step - loss: 0.1042 - acc: 0.9612 - val_loss: 0.1358 - val_acc: 0.9500\n",
            "Epoch 38/50\n",
            "10000/10000 [==============================] - 5s 460us/step - loss: 0.1019 - acc: 0.9650 - val_loss: 0.1288 - val_acc: 0.9520\n",
            "Epoch 39/50\n",
            "10000/10000 [==============================] - 5s 458us/step - loss: 0.0948 - acc: 0.9663 - val_loss: 0.1320 - val_acc: 0.9480\n",
            "Epoch 40/50\n",
            "10000/10000 [==============================] - 5s 460us/step - loss: 0.0890 - acc: 0.9677 - val_loss: 0.1358 - val_acc: 0.9480\n",
            "Epoch 41/50\n",
            "10000/10000 [==============================] - 5s 462us/step - loss: 0.0915 - acc: 0.9656 - val_loss: 0.1516 - val_acc: 0.9470\n",
            "Epoch 42/50\n",
            "10000/10000 [==============================] - 5s 464us/step - loss: 0.0930 - acc: 0.9655 - val_loss: 0.1315 - val_acc: 0.9500\n",
            "Epoch 43/50\n",
            "10000/10000 [==============================] - 5s 463us/step - loss: 0.0935 - acc: 0.9670 - val_loss: 0.1498 - val_acc: 0.9470\n",
            "Epoch 44/50\n",
            "10000/10000 [==============================] - 5s 456us/step - loss: 0.0903 - acc: 0.9667 - val_loss: 0.1214 - val_acc: 0.9510\n",
            "Epoch 45/50\n",
            "10000/10000 [==============================] - 5s 455us/step - loss: 0.0833 - acc: 0.9699 - val_loss: 0.1470 - val_acc: 0.9410\n",
            "Epoch 46/50\n",
            "10000/10000 [==============================] - 5s 458us/step - loss: 0.0799 - acc: 0.9708 - val_loss: 0.1377 - val_acc: 0.9520\n",
            "Epoch 47/50\n",
            "10000/10000 [==============================] - 5s 456us/step - loss: 0.0782 - acc: 0.9728 - val_loss: 0.1319 - val_acc: 0.9510\n",
            "Epoch 48/50\n",
            "10000/10000 [==============================] - 5s 455us/step - loss: 0.0815 - acc: 0.9725 - val_loss: 0.1254 - val_acc: 0.9510\n",
            "Epoch 49/50\n",
            "10000/10000 [==============================] - 5s 460us/step - loss: 0.0690 - acc: 0.9754 - val_loss: 0.1293 - val_acc: 0.9590\n",
            "Epoch 50/50\n",
            "10000/10000 [==============================] - 5s 454us/step - loss: 0.0772 - acc: 0.9733 - val_loss: 0.1302 - val_acc: 0.9530\n"
          ],
          "name": "stdout"
        }
      ]
    },
    {
      "cell_type": "code",
      "metadata": {
        "id": "zq0Q6sg_t6J8",
        "colab_type": "code",
        "outputId": "81a79a94-5c19-4724-acfc-7947d24b3c1e",
        "colab": {
          "base_uri": "https://localhost:8080/",
          "height": 312
        }
      },
      "source": [
        "import matplotlib.pyplot as plt\n",
        "%matplotlib inline\n",
        "print(history.history.keys())\n",
        "\n",
        "plt.plot(history.history['acc'])\n",
        "plt.plot(history.history['val_acc'])\n",
        "plt.title('model_accuracy')\n",
        "plt.xlabel('epoch')\n",
        "plt.ylabel('accuracy')\n",
        "plt.legend(['train', 'test'], loc='upper left')\n",
        "plt.show()"
      ],
      "execution_count": 0,
      "outputs": [
        {
          "output_type": "stream",
          "text": [
            "dict_keys(['val_loss', 'val_acc', 'loss', 'acc'])\n"
          ],
          "name": "stdout"
        },
        {
          "output_type": "display_data",
          "data": {
            "image/png": "[encoded data removed]",
            "text/plain": [
              "<Figure size 432x288 with 1 Axes>"
            ]
          },
          "metadata": {
            "tags": []
          }
        }
      ]
    },
    {
      "cell_type": "code",
      "metadata": {
        "id": "ODw465Get6UM",
        "colab_type": "code",
        "colab": {}
      },
      "source": [
        "model.save('sample_chatbot.h5')"
      ],
      "execution_count": 0,
      "outputs": []
    },
    {
      "cell_type": "code",
      "metadata": {
        "id": "EL03TKMpt6aP",
        "colab_type": "code",
        "colab": {}
      },
      "source": [
        "#model.load_weights('chatbot_10.h5')"
      ],
      "execution_count": 0,
      "outputs": []
    },
    {
      "cell_type": "code",
      "metadata": {
        "id": "31aSpmd2t6eu",
        "colab_type": "code",
        "colab": {}
      },
      "source": [
        "pred_results = model.predict([inputs_test, queries_test])"
      ],
      "execution_count": 0,
      "outputs": []
    },
    {
      "cell_type": "code",
      "metadata": {
        "id": "NSgK7NfWt6ih",
        "colab_type": "code",
        "outputId": "bee11325-6979-4420-a081-d30b42e28e9a",
        "colab": {
          "base_uri": "https://localhost:8080/",
          "height": 221
        }
      },
      "source": [
        "test_data[0][0]"
      ],
      "execution_count": 0,
      "outputs": [
        {
          "output_type": "execute_result",
          "data": {
            "text/plain": [
              "['Mary',\n",
              " 'got',\n",
              " 'the',\n",
              " 'milk',\n",
              " 'there',\n",
              " '.',\n",
              " 'John',\n",
              " 'moved',\n",
              " 'to',\n",
              " 'the',\n",
              " 'bedroom',\n",
              " '.']"
            ]
          },
          "metadata": {
            "tags": []
          },
          "execution_count": 63
        }
      ]
    },
    {
      "cell_type": "code",
      "metadata": {
        "id": "RdiQXVoAyHV7",
        "colab_type": "code",
        "outputId": "7e25ab64-fd2a-4e1b-8205-19f032b81ce6",
        "colab": {
          "base_uri": "https://localhost:8080/",
          "height": 34
        }
      },
      "source": [
        "test_data[0][1]"
      ],
      "execution_count": 0,
      "outputs": [
        {
          "output_type": "execute_result",
          "data": {
            "text/plain": [
              "['Is', 'John', 'in', 'the', 'kitchen', '?']"
            ]
          },
          "metadata": {
            "tags": []
          },
          "execution_count": 64
        }
      ]
    },
    {
      "cell_type": "code",
      "metadata": {
        "id": "QwY5U59VyJid",
        "colab_type": "code",
        "outputId": "379e64e8-96b4-4cf9-d76b-e5e9c14574aa",
        "colab": {
          "base_uri": "https://localhost:8080/",
          "height": 34
        }
      },
      "source": [
        "test_data[0][2]"
      ],
      "execution_count": 0,
      "outputs": [
        {
          "output_type": "execute_result",
          "data": {
            "text/plain": [
              "'no'"
            ]
          },
          "metadata": {
            "tags": []
          },
          "execution_count": 65
        }
      ]
    },
    {
      "cell_type": "code",
      "metadata": {
        "id": "tzEbUxO_q9ko",
        "colab_type": "code",
        "outputId": "4a76ac76-22e5-4ff1-e7bb-dc74572f8756",
        "colab": {
          "base_uri": "https://localhost:8080/",
          "height": 187
        }
      },
      "source": [
        "pred_results[0]"
      ],
      "execution_count": 0,
      "outputs": [
        {
          "output_type": "execute_result",
          "data": {
            "text/plain": [
              "array([2.6610283e-17, 2.2337523e-17, 2.4148201e-17, 2.2576532e-17,\n",
              "       2.4633781e-17, 2.7006658e-17, 6.0048479e-24, 2.4267881e-17,\n",
              "       2.5368182e-17, 2.4547855e-17, 2.1803516e-17, 2.7866600e-17,\n",
              "       2.4740858e-17, 2.5097993e-17, 9.9999964e-01, 2.5672991e-17,\n",
              "       2.2420075e-17, 2.3471043e-17, 2.5794322e-17, 3.1817381e-24,\n",
              "       2.2546753e-17, 2.7989118e-17, 2.1005224e-17, 2.8923118e-17,\n",
              "       2.2442065e-17, 2.2908891e-17, 3.0460387e-07, 2.5279695e-17,\n",
              "       3.2820601e-17, 2.4997094e-17, 2.7687737e-17, 2.4723595e-17,\n",
              "       2.6337611e-17, 2.1703935e-17, 2.0482744e-17, 2.2044631e-17,\n",
              "       2.6474504e-17, 2.6023919e-17], dtype=float32)"
            ]
          },
          "metadata": {
            "tags": []
          },
          "execution_count": 66
        }
      ]
    },
    {
      "cell_type": "code",
      "metadata": {
        "id": "-OWVCLQIq96a",
        "colab_type": "code",
        "outputId": "c44cce80-6f64-439f-bb65-058a263004e8",
        "colab": {
          "base_uri": "https://localhost:8080/",
          "height": 34
        }
      },
      "source": [
        "val_max = np.argmax(pred_results[0])\n",
        "val_max"
      ],
      "execution_count": 0,
      "outputs": [
        {
          "output_type": "execute_result",
          "data": {
            "text/plain": [
              "14"
            ]
          },
          "metadata": {
            "tags": []
          },
          "execution_count": 67
        }
      ]
    },
    {
      "cell_type": "code",
      "metadata": {
        "id": "4T09StVuq-NO",
        "colab_type": "code",
        "outputId": "20db9392-549d-4eff-afa3-cb575134b855",
        "colab": {
          "base_uri": "https://localhost:8080/",
          "height": 51
        }
      },
      "source": [
        "for key, val in tokenizer.word_index.items():\n",
        "  if val == val_max:\n",
        "    k = key\n",
        "    print(key)\n",
        "k"
      ],
      "execution_count": 0,
      "outputs": [
        {
          "output_type": "stream",
          "text": [
            "no\n"
          ],
          "name": "stdout"
        },
        {
          "output_type": "execute_result",
          "data": {
            "text/plain": [
              "'no'"
            ]
          },
          "metadata": {
            "tags": []
          },
          "execution_count": 68
        }
      ]
    },
    {
      "cell_type": "code",
      "metadata": {
        "id": "DYsSaFK8ybKq",
        "colab_type": "code",
        "outputId": "ad1907c1-e43e-4af4-a56a-a052bc45b012",
        "colab": {
          "base_uri": "https://localhost:8080/",
          "height": 34
        }
      },
      "source": [
        "pred_results[0][val_max]"
      ],
      "execution_count": 0,
      "outputs": [
        {
          "output_type": "execute_result",
          "data": {
            "text/plain": [
              "0.99999964"
            ]
          },
          "metadata": {
            "tags": []
          },
          "execution_count": 69
        }
      ]
    },
    {
      "cell_type": "code",
      "metadata": {
        "id": "sDBwnzd0y5CQ",
        "colab_type": "code",
        "colab": {}
      },
      "source": [
        "my_story = \"John left the kitchen . Sandra dropped football in the garden .\"\n",
        "my_story = my_story.split()\n",
        "my_question = \"Is the football in the garden ?\"\n",
        "my_question = my_question.split()"
      ],
      "execution_count": 0,
      "outputs": []
    },
    {
      "cell_type": "code",
      "metadata": {
        "id": "fpG0X-iIzf5q",
        "colab_type": "code",
        "outputId": "9549c189-d747-4c84-c73a-54fceec7facb",
        "colab": {
          "base_uri": "https://localhost:8080/",
          "height": 255
        }
      },
      "source": [
        "mydata = [(my_story, my_question, 'yes')]\n",
        "mydata"
      ],
      "execution_count": 0,
      "outputs": [
        {
          "output_type": "execute_result",
          "data": {
            "text/plain": [
              "[(['John',\n",
              "   'left',\n",
              "   'the',\n",
              "   'kitchen',\n",
              "   '.',\n",
              "   'Sandra',\n",
              "   'dropped',\n",
              "   'football',\n",
              "   'in',\n",
              "   'the',\n",
              "   'garden',\n",
              "   '.'],\n",
              "  ['Is', 'the', 'football', 'in', 'the', 'garden', '?'],\n",
              "  'yes')]"
            ]
          },
          "metadata": {
            "tags": []
          },
          "execution_count": 74
        }
      ]
    },
    {
      "cell_type": "code",
      "metadata": {
        "id": "WxBYSk2JzgB3",
        "colab_type": "code",
        "colab": {}
      },
      "source": [
        "my_story, my_ques, my_ans = vectorize_stories(mydata)"
      ],
      "execution_count": 0,
      "outputs": []
    },
    {
      "cell_type": "code",
      "metadata": {
        "id": "X4y4-GRt0QOE",
        "colab_type": "code",
        "colab": {}
      },
      "source": [
        "pred_result = model.predict(([my_story, my_ques]))"
      ],
      "execution_count": 0,
      "outputs": []
    },
    {
      "cell_type": "code",
      "metadata": {
        "id": "UdYG3IeP0QWl",
        "colab_type": "code",
        "outputId": "2a95decf-1262-4921-8888-781071cd0905",
        "colab": {
          "base_uri": "https://localhost:8080/",
          "height": 34
        }
      },
      "source": [
        "val_max = np.argmax(pred_result[0])\n",
        "for key, value in tokenizer.word_index.items():\n",
        "  if value == val_max:\n",
        "    k = key\n",
        "k"
      ],
      "execution_count": 0,
      "outputs": [
        {
          "output_type": "execute_result",
          "data": {
            "text/plain": [
              "'no'"
            ]
          },
          "metadata": {
            "tags": []
          },
          "execution_count": 81
        }
      ]
    },
    {
      "cell_type": "code",
      "metadata": {
        "id": "4-MrkF4G0_fw",
        "colab_type": "code",
        "outputId": "2d63e82a-7adc-4785-e0cb-93df1c115a4d",
        "colab": {
          "base_uri": "https://localhost:8080/",
          "height": 34
        }
      },
      "source": [
        "pred_result[0][val_max]"
      ],
      "execution_count": 0,
      "outputs": [
        {
          "output_type": "execute_result",
          "data": {
            "text/plain": [
              "0.9999633"
            ]
          },
          "metadata": {
            "tags": []
          },
          "execution_count": 82
        }
      ]
    },
    {
      "cell_type": "code",
      "metadata": {
        "id": "04TaCQC21VNc",
        "colab_type": "code",
        "colab": {}
      },
      "source": [
        ""
      ],
      "execution_count": 0,
      "outputs": []
    }
  ]
}